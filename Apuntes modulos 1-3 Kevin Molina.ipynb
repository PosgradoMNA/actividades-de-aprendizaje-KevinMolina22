{
 "cells": [
  {
   "cell_type": "code",
   "execution_count": 2,
   "id": "f0eb0d49",
   "metadata": {},
   "outputs": [],
   "source": [
    "#Resumen de actividades modulos 1-3 \n",
    "#Alumno: Kevin Molina\n",
    "    \n"
   ]
  },
  {
   "cell_type": "code",
   "execution_count": 3,
   "id": "88ceb5af",
   "metadata": {},
   "outputs": [
    {
     "name": "stdout",
     "output_type": "stream",
     "text": [
      "Hello World\n"
     ]
    }
   ],
   "source": [
    "#PrintHola Mundo\n",
    "print(\"Hello World\")"
   ]
  },
  {
   "cell_type": "code",
   "execution_count": 4,
   "id": "2abe2ff9",
   "metadata": {},
   "outputs": [
    {
     "name": "stdout",
     "output_type": "stream",
     "text": [
      "Hello\n",
      "World\n"
     ]
    }
   ],
   "source": [
    "#Print Hola Mundo dejando espacio de por medio\n",
    "print(\"Hello\\nWorld\")"
   ]
  },
  {
   "cell_type": "code",
   "execution_count": 5,
   "id": "a40c9851",
   "metadata": {},
   "outputs": [],
   "source": [
    "#1.2 "
   ]
  },
  {
   "cell_type": "code",
   "execution_count": 6,
   "id": "88efeb53",
   "metadata": {},
   "outputs": [
    {
     "data": {
      "text/plain": [
       "str"
      ]
     },
     "execution_count": 6,
     "metadata": {},
     "output_type": "execute_result"
    }
   ],
   "source": [
    "type (\"Hello World\")"
   ]
  },
  {
   "cell_type": "code",
   "execution_count": 7,
   "id": "da804bf0",
   "metadata": {},
   "outputs": [
    {
     "data": {
      "text/plain": [
       "float"
      ]
     },
     "execution_count": 7,
     "metadata": {},
     "output_type": "execute_result"
    }
   ],
   "source": [
    "#1.1\"\n",
    "type (1.1)"
   ]
  },
  {
   "cell_type": "code",
   "execution_count": 8,
   "id": "4bb94a8c",
   "metadata": {},
   "outputs": [
    {
     "data": {
      "text/plain": [
       "True"
      ]
     },
     "execution_count": 8,
     "metadata": {},
     "output_type": "execute_result"
    }
   ],
   "source": [
    "bool(int(\"1\"))"
   ]
  },
  {
   "cell_type": "code",
   "execution_count": 9,
   "id": "9ec1effa",
   "metadata": {},
   "outputs": [],
   "source": [
    "#1.3"
   ]
  },
  {
   "cell_type": "code",
   "execution_count": 10,
   "id": "74cc3b84",
   "metadata": {},
   "outputs": [
    {
     "name": "stdout",
     "output_type": "stream",
     "text": [
      "Hello, Goku!\n"
     ]
    }
   ],
   "source": [
    "print('Hello, Goku!')"
   ]
  },
  {
   "cell_type": "code",
   "execution_count": 11,
   "id": "7e444a5b",
   "metadata": {},
   "outputs": [
    {
     "data": {
      "text/plain": [
       "int"
      ]
     },
     "execution_count": 11,
     "metadata": {},
     "output_type": "execute_result"
    }
   ],
   "source": [
    "type(12)\n",
    "type(2.14)\n",
    "type(\"Hello, Python 101!\")\n",
    "type(-1)\n",
    "type(4)\n",
    "type(0)\n",
    "type(1.0)\n",
    "type(0.5)\n",
    "type(0.56)\n",
    "type(False)\n",
    "type(True)\n",
    "type (6/2)\n",
    "type(6//2)"
   ]
  },
  {
   "cell_type": "code",
   "execution_count": 12,
   "id": "8e9f150e",
   "metadata": {},
   "outputs": [
    {
     "ename": "NameError",
     "evalue": "name 'sys' is not defined",
     "output_type": "error",
     "traceback": [
      "\u001b[0;31m---------------------------------------------------------------------------\u001b[0m",
      "\u001b[0;31mNameError\u001b[0m                                 Traceback (most recent call last)",
      "Input \u001b[0;32mIn [12]\u001b[0m, in \u001b[0;36m<cell line: 1>\u001b[0;34m()\u001b[0m\n\u001b[0;32m----> 1\u001b[0m \u001b[43msys\u001b[49m\u001b[38;5;241m.\u001b[39mfloat_info\n",
      "\u001b[0;31mNameError\u001b[0m: name 'sys' is not defined"
     ]
    }
   ],
   "source": [
    "sys.float_info"
   ]
  },
  {
   "cell_type": "code",
   "execution_count": 13,
   "id": "64f727b7",
   "metadata": {},
   "outputs": [
    {
     "data": {
      "text/plain": [
       "17"
      ]
     },
     "execution_count": 13,
     "metadata": {},
     "output_type": "execute_result"
    }
   ],
   "source": [
    "x = 43 + 60 + 16 + 41\n",
    "x\n",
    "y = x / 60\n",
    "y\n",
    "total_min = 43 + 42 + 57 \n",
    "total_min\n",
    "total_hours = total_min / 60 \n",
    "total_hours\n",
    "x = 3 + 2 * 2\n",
    "y = (3 + 2) * 2\n",
    "z = x + y\n",
    "z"
   ]
  },
  {
   "cell_type": "code",
   "execution_count": 14,
   "id": "1bf0431d",
   "metadata": {},
   "outputs": [
    {
     "data": {
      "text/plain": [
       "6"
      ]
     },
     "execution_count": 14,
     "metadata": {},
     "output_type": "execute_result"
    }
   ],
   "source": [
    "Diccionario = {\"llave1\": 156, \"key2\": \"2\", \"key3\": ['oso', 'lobo', 'camion'], \"key4\": (4, 4, 4), ('key5'): 5, (0, 'Carlos'): 6}\n",
    "Diccionario\n",
    "Diccionario['llave1']\n",
    "Diccionario[(0,'Carlos')]"
   ]
  },
  {
   "cell_type": "code",
   "execution_count": 15,
   "id": "eccc6f5b",
   "metadata": {},
   "outputs": [],
   "source": [
    "#3.1\n"
   ]
  },
  {
   "cell_type": "code",
   "execution_count": 16,
   "id": "a2a30824",
   "metadata": {},
   "outputs": [
    {
     "data": {
      "text/plain": [
       "True"
      ]
     },
     "execution_count": 16,
     "metadata": {},
     "output_type": "execute_result"
    }
   ],
   "source": [
    "valor=10\n",
    "valor!=20"
   ]
  },
  {
   "cell_type": "code",
   "execution_count": 17,
   "id": "3def1063",
   "metadata": {},
   "outputs": [
    {
     "name": "stdout",
     "output_type": "stream",
     "text": [
      "tienes un lindo gatito\n"
     ]
    }
   ],
   "source": [
    "valor2='gatito'\n",
    "if(valor2=='gatito'):\n",
    "    print('tienes un lindo gatito')\n",
    "else:\n",
    "    print('No tienes un gatito, que sad')"
   ]
  },
  {
   "cell_type": "code",
   "execution_count": 18,
   "id": "efb2321d",
   "metadata": {},
   "outputs": [
    {
     "data": {
      "text/plain": [
       "True"
      ]
     },
     "execution_count": 18,
     "metadata": {},
     "output_type": "execute_result"
    }
   ],
   "source": [
    "valor3=30\n",
    "valor>1 and valor3<40"
   ]
  },
  {
   "cell_type": "code",
   "execution_count": 19,
   "id": "f52094fe",
   "metadata": {},
   "outputs": [],
   "source": [
    "#3.8"
   ]
  },
  {
   "cell_type": "code",
   "execution_count": 25,
   "id": "fa57a1b1",
   "metadata": {},
   "outputs": [],
   "source": [
    "class vehiculo(object):\n",
    "    def _init_(self,marca,modelo,color):\n",
    "        self.marca=marca;\n",
    "        self.modelo=modelo;\n",
    "        self.color=color;\n",
    "        self.numero_duenos=0\n",
    "\n",
    "    def imprimir_informacion(self):\n",
    "        print(\"Carro marca\",self.marca)\n",
    "        print(\"Carro modelo\",self.modelo)\n",
    "        print(\"Carro color\",self.color)\n",
    "        print(\"Cantidad de duenos\",self.numero_duenos)\n",
    "\n",
    "    def venta(self):\n",
    "        self.numero_duenos=numero_duenos+1"
   ]
  },
  {
   "cell_type": "code",
   "execution_count": null,
   "id": "fecf4c20",
   "metadata": {},
   "outputs": [],
   "source": [
    "dir(vehiculo)\n",
    "\n",
    "marca=\"BMW\"\n",
    "modelo=\"Serie1\"\n",
    "color=\"Blanco\"\n",
    "\n",
    "micarro = vehiculo(marca,modelo,color)\n",
    "\n",
    "micarro.imprimir_informacion()"
   ]
  },
  {
   "cell_type": "code",
   "execution_count": null,
   "id": "3a2de553",
   "metadata": {},
   "outputs": [],
   "source": []
  }
 ],
 "metadata": {
  "kernelspec": {
   "display_name": "Python 3 (ipykernel)",
   "language": "python",
   "name": "python3"
  },
  "language_info": {
   "codemirror_mode": {
    "name": "ipython",
    "version": 3
   },
   "file_extension": ".py",
   "mimetype": "text/x-python",
   "name": "python",
   "nbconvert_exporter": "python",
   "pygments_lexer": "ipython3",
   "version": "3.9.12"
  }
 },
 "nbformat": 4,
 "nbformat_minor": 5
}
